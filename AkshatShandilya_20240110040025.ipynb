{
  "nbformat": 4,
  "nbformat_minor": 0,
  "metadata": {
    "colab": {
      "provenance": [],
      "toc_visible": true
    },
    "kernelspec": {
      "name": "python3",
      "display_name": "Python 3"
    },
    "language_info": {
      "name": "python"
    }
  },
  "cells": [
    {
      "cell_type": "code",
      "execution_count": null,
      "metadata": {
        "id": "S3ZJH9kLJlxp"
      },
      "outputs": [],
      "source": [
        "import numpy as np\n",
        "import pandas as pd\n",
        "import seaborn as sns\n",
        "import matplotlib.pyplot as plt\n",
        "\n"
      ]
    },
    {
      "cell_type": "code",
      "source": [
        "df=pd.read_csv(\"/content/drive/MyDrive/data.csv\")"
      ],
      "metadata": {
        "id": "KSfRqeNkKrkS"
      },
      "execution_count": null,
      "outputs": []
    },
    {
      "cell_type": "code",
      "source": [
        "print(df.head())"
      ],
      "metadata": {
        "colab": {
          "base_uri": "https://localhost:8080/"
        },
        "id": "PMb59tIBLjMA",
        "outputId": "886a6420-ee64-4cff-f683-e18dd67b7560"
      },
      "execution_count": null,
      "outputs": [
        {
          "output_type": "stream",
          "name": "stdout",
          "text": [
            "  Make       Model  Year             Engine Fuel Type  Engine HP  \\\n",
            "0  BMW  1 Series M  2011  premium unleaded (required)      335.0   \n",
            "1  BMW    1 Series  2011  premium unleaded (required)      300.0   \n",
            "2  BMW    1 Series  2011  premium unleaded (required)      300.0   \n",
            "3  BMW    1 Series  2011  premium unleaded (required)      230.0   \n",
            "4  BMW    1 Series  2011  premium unleaded (required)      230.0   \n",
            "\n",
            "   Engine Cylinders Transmission Type     Driven_Wheels  Number of Doors  \\\n",
            "0               6.0            MANUAL  rear wheel drive              2.0   \n",
            "1               6.0            MANUAL  rear wheel drive              2.0   \n",
            "2               6.0            MANUAL  rear wheel drive              2.0   \n",
            "3               6.0            MANUAL  rear wheel drive              2.0   \n",
            "4               6.0            MANUAL  rear wheel drive              2.0   \n",
            "\n",
            "                         Market Category Vehicle Size Vehicle Style  \\\n",
            "0  Factory Tuner,Luxury,High-Performance      Compact         Coupe   \n",
            "1                     Luxury,Performance      Compact   Convertible   \n",
            "2                Luxury,High-Performance      Compact         Coupe   \n",
            "3                     Luxury,Performance      Compact         Coupe   \n",
            "4                                 Luxury      Compact   Convertible   \n",
            "\n",
            "   highway MPG  city mpg  Popularity   MSRP  \n",
            "0           26        19        3916  46135  \n",
            "1           28        19        3916  40650  \n",
            "2           28        20        3916  36350  \n",
            "3           28        18        3916  29450  \n",
            "4           28        18        3916  34500  \n"
          ]
        }
      ]
    },
    {
      "cell_type": "code",
      "source": [
        "print(df.shape)"
      ],
      "metadata": {
        "colab": {
          "base_uri": "https://localhost:8080/"
        },
        "id": "jFFz7tZILsz6",
        "outputId": "0c62ee14-0ce1-4904-e311-5c98287450e7"
      },
      "execution_count": null,
      "outputs": [
        {
          "output_type": "stream",
          "name": "stdout",
          "text": [
            "(11914, 16)\n"
          ]
        }
      ]
    },
    {
      "cell_type": "code",
      "source": [
        "print(df.describe);"
      ],
      "metadata": {
        "colab": {
          "base_uri": "https://localhost:8080/"
        },
        "id": "KESM-SE3Lymt",
        "outputId": "22cf05a6-541a-44b7-e2a7-b5d51bdbf5cd"
      },
      "execution_count": null,
      "outputs": [
        {
          "output_type": "stream",
          "name": "stdout",
          "text": [
            "<bound method NDFrame.describe of           Make       Model  Year                Engine Fuel Type  Engine HP  \\\n",
            "0          BMW  1 Series M  2011     premium unleaded (required)      335.0   \n",
            "1          BMW    1 Series  2011     premium unleaded (required)      300.0   \n",
            "2          BMW    1 Series  2011     premium unleaded (required)      300.0   \n",
            "3          BMW    1 Series  2011     premium unleaded (required)      230.0   \n",
            "4          BMW    1 Series  2011     premium unleaded (required)      230.0   \n",
            "...        ...         ...   ...                             ...        ...   \n",
            "11909    Acura         ZDX  2012     premium unleaded (required)      300.0   \n",
            "11910    Acura         ZDX  2012     premium unleaded (required)      300.0   \n",
            "11911    Acura         ZDX  2012     premium unleaded (required)      300.0   \n",
            "11912    Acura         ZDX  2013  premium unleaded (recommended)      300.0   \n",
            "11913  Lincoln      Zephyr  2006                regular unleaded      221.0   \n",
            "\n",
            "       Engine Cylinders Transmission Type      Driven_Wheels  Number of Doors  \\\n",
            "0                   6.0            MANUAL   rear wheel drive              2.0   \n",
            "1                   6.0            MANUAL   rear wheel drive              2.0   \n",
            "2                   6.0            MANUAL   rear wheel drive              2.0   \n",
            "3                   6.0            MANUAL   rear wheel drive              2.0   \n",
            "4                   6.0            MANUAL   rear wheel drive              2.0   \n",
            "...                 ...               ...                ...              ...   \n",
            "11909               6.0         AUTOMATIC    all wheel drive              4.0   \n",
            "11910               6.0         AUTOMATIC    all wheel drive              4.0   \n",
            "11911               6.0         AUTOMATIC    all wheel drive              4.0   \n",
            "11912               6.0         AUTOMATIC    all wheel drive              4.0   \n",
            "11913               6.0         AUTOMATIC  front wheel drive              4.0   \n",
            "\n",
            "                             Market Category Vehicle Size  Vehicle Style  \\\n",
            "0      Factory Tuner,Luxury,High-Performance      Compact          Coupe   \n",
            "1                         Luxury,Performance      Compact    Convertible   \n",
            "2                    Luxury,High-Performance      Compact          Coupe   \n",
            "3                         Luxury,Performance      Compact          Coupe   \n",
            "4                                     Luxury      Compact    Convertible   \n",
            "...                                      ...          ...            ...   \n",
            "11909             Crossover,Hatchback,Luxury      Midsize  4dr Hatchback   \n",
            "11910             Crossover,Hatchback,Luxury      Midsize  4dr Hatchback   \n",
            "11911             Crossover,Hatchback,Luxury      Midsize  4dr Hatchback   \n",
            "11912             Crossover,Hatchback,Luxury      Midsize  4dr Hatchback   \n",
            "11913                                 Luxury      Midsize          Sedan   \n",
            "\n",
            "       highway MPG  city mpg  Popularity   MSRP  \n",
            "0               26        19        3916  46135  \n",
            "1               28        19        3916  40650  \n",
            "2               28        20        3916  36350  \n",
            "3               28        18        3916  29450  \n",
            "4               28        18        3916  34500  \n",
            "...            ...       ...         ...    ...  \n",
            "11909           23        16         204  46120  \n",
            "11910           23        16         204  56670  \n",
            "11911           23        16         204  50620  \n",
            "11912           23        16         204  50920  \n",
            "11913           26        17          61  28995  \n",
            "\n",
            "[11914 rows x 16 columns]>\n"
          ]
        }
      ]
    },
    {
      "cell_type": "code",
      "source": [
        "print(df.dtypes)"
      ],
      "metadata": {
        "colab": {
          "base_uri": "https://localhost:8080/"
        },
        "id": "tfoiIZoVL6M7",
        "outputId": "3d4bc826-95f0-4364-d3a8-182cda1e7b98"
      },
      "execution_count": null,
      "outputs": [
        {
          "output_type": "stream",
          "name": "stdout",
          "text": [
            "Make                  object\n",
            "Model                 object\n",
            "Year                   int64\n",
            "Engine Fuel Type      object\n",
            "Engine HP            float64\n",
            "Engine Cylinders     float64\n",
            "Transmission Type     object\n",
            "Driven_Wheels         object\n",
            "Number of Doors      float64\n",
            "Market Category       object\n",
            "Vehicle Size          object\n",
            "Vehicle Style         object\n",
            "highway MPG            int64\n",
            "city mpg               int64\n",
            "Popularity             int64\n",
            "MSRP                   int64\n",
            "dtype: object\n"
          ]
        }
      ]
    },
    {
      "cell_type": "code",
      "source": [
        "import math\n",
        "\n",
        "PLAYER_X = 'X'\n",
        "PLAYER_O = 'O'\n",
        "EMPTY = ' '\n",
        "\n",
        "# The game board is a 3x3 grid\n",
        "def print_board(board):\n",
        "    for row in board:\n",
        "        print(\" | \".join(row))\n",
        "        print(\"-\" * 5)\n",
        "\n",
        "# Check if the board is full\n",
        "def is_full(board):\n",
        "    for row in board:\n",
        "        if EMPTY in row:\n",
        "            return False\n",
        "    return True\n",
        "\n",
        "# Check if a player has won\n",
        "def check_winner(board, player):\n",
        "    # Check rows, columns, and diagonals\n",
        "    for row in board:\n",
        "        if all(s == player for s in row):\n",
        "            return True\n",
        "    for col in range(3):\n",
        "        if all(board[row][col] == player for row in range(3)):\n",
        "            return True\n",
        "    if all(board[i][i] == player for i in range(3)):\n",
        "        return True\n",
        "    if all(board[i][2 - i] == player for i in range(3)):\n",
        "        return True\n",
        "    return False\n",
        "\n",
        "# Evaluate the board state\n",
        "def evaluate(board):\n",
        "    if check_winner(board, PLAYER_X):\n",
        "        return 10\n",
        "    elif check_winner(board, PLAYER_O):\n",
        "        return -10\n",
        "    else:\n",
        "        return 0\n",
        "\n",
        "# Minimax with Alpha-Beta Pruning\n",
        "def minimax(board, depth, alpha, beta, is_maximizing_player):\n",
        "    score = evaluate(board)\n",
        "\n",
        "    # If the maximizer wins, return the score\n",
        "    if score == 10:\n",
        "        return score\n",
        "\n",
        "    # If the minimizer wins, return the score\n",
        "    if score == -10:\n",
        "        return score\n",
        "\n",
        "    # If the board is full, it's a tie\n",
        "    if is_full(board):\n",
        "        return 0\n",
        "\n",
        "    # If it is the maximizer's (AI's) turn\n",
        "    if is_maximizing_player:\n",
        "        max_eval = -math.inf\n",
        "        for i in range(3):\n",
        "            for j in range(3):\n",
        "                if board[i][j] == EMPTY:\n",
        "                    board[i][j] = PLAYER_X\n",
        "                    eval = minimax(board, depth + 1, alpha, beta, False)\n",
        "                    max_eval = max(max_eval, eval)\n",
        "                    alpha = max(alpha, eval)\n",
        "                    board[i][j] = EMPTY\n",
        "                    if beta <= alpha:\n",
        "                        break\n",
        "        return max_eval\n",
        "\n",
        "    # If it is the minimizer's (player's) turn\n",
        "    else:\n",
        "        min_eval = math.inf\n",
        "        for i in range(3):\n",
        "            for j in range(3):\n",
        "                if board[i][j] == EMPTY:\n",
        "                    board[i][j] = PLAYER_O\n",
        "                    eval = minimax(board, depth + 1, alpha, beta, True)\n",
        "                    min_eval = min(min_eval, eval)\n",
        "                    beta = min(beta, eval)\n",
        "                    board[i][j] = EMPTY\n",
        "                    if beta <= alpha:\n",
        "                        break\n",
        "        return min_eval\n",
        "\n",
        "# Find the best move for the AI (PLAYER_X)\n",
        "def find_best_move(board):\n",
        "    best_val = -math.inf\n",
        "    best_move = (-1, -1)\n",
        "\n",
        "    # Try all possible moves for the AI\n",
        "    for i in range(3):\n",
        "        for j in range(3):\n",
        "            if board[i][j] == EMPTY:\n",
        "                board[i][j] = PLAYER_X\n",
        "                move_val = minimax(board, 0, -math.inf, math.inf, False)\n",
        "                board[i][j] = EMPTY\n",
        "                if move_val > best_val:\n",
        "                    best_move = (i, j)\n",
        "                    best_val = move_val\n",
        "\n",
        "    return best_move\n",
        "\n",
        "# Play the game\n",
        "def play_game():\n",
        "    board = [[EMPTY for _ in range(3)] for _ in range(3)]\n",
        "    current_player = PLAYER_O  # Player O starts\n",
        "\n",
        "    while True:\n",
        "        print_board(board)\n",
        "\n",
        "        if current_player == PLAYER_X:\n",
        "            print(\"AI's turn (X):\")\n",
        "            move = find_best_move(board)\n",
        "            board[move[0]][move[1]] = PLAYER_X\n",
        "        else:\n",
        "            print(\"Player O's turn:\")\n",
        "            move = None\n",
        "            while move is None:\n",
        "                try:\n",
        "                    row, col = map(int, input(\"Enter row and column (0-2) separated by space: \").split())\n",
        "                    if board[row][col] == EMPTY:\n",
        "                        move = (row, col)\n",
        "                        board[row][col] = PLAYER_O\n",
        "                    else:\n",
        "                        print(\"This spot is already taken, try again.\")\n",
        "                except (ValueError, IndexError):\n",
        "                    print(\"Invalid input, please enter row and column (0-2).\")\n",
        "\n",
        "        # Check if the game has ended\n",
        "        if check_winner(board, PLAYER_X):\n",
        "            print_board(board)\n",
        "            print(\"AI wins!\")\n",
        "            break\n",
        "        elif check_winner(board, PLAYER_O):\n",
        "            print_board(board)\n",
        "            print(\"Player O wins!\")\n",
        "            break\n",
        "        elif is_full(board):\n",
        "            print_board(board)\n",
        "            print(\"It's a draw!\")\n",
        "            break\n",
        "\n",
        "        # Switch turns\n",
        "        current_player = PLAYER_X if current_player == PLAYER_O else PLAYER_O\n",
        "\n",
        "# Start the game\n",
        "if __name__ == \"__main__\":\n",
        "    play_game()"
      ],
      "metadata": {
        "id": "GQAJxeQml--x"
      },
      "execution_count": null,
      "outputs": []
    },
    {
      "cell_type": "code",
      "source": [],
      "metadata": {
        "id": "h2YWz13-l_6X"
      },
      "execution_count": 3,
      "outputs": []
    }
  ]
}