{
  "nbformat": 4,
  "nbformat_minor": 0,
  "metadata": {
    "colab": {
      "provenance": []
    },
    "kernelspec": {
      "name": "python3",
      "display_name": "Python 3"
    },
    "language_info": {
      "name": "python"
    }
  },
  "cells": [
    {
      "cell_type": "code",
      "source": [
        "import pandas as pd\n",
        "import numpy as np\n",
        "import matplotlib.pyplot as plt\n",
        "import seaborn as sns"
      ],
      "metadata": {
        "id": "2eEqA38ye4vd"
      },
      "execution_count": 2,
      "outputs": []
    },
    {
      "cell_type": "code",
      "source": [
        "df = pd.read_csv('/content/drive/MyDrive/Titanic-Dataset.csv')"
      ],
      "metadata": {
        "id": "t1O4EX1BhlZ1"
      },
      "execution_count": 4,
      "outputs": []
    },
    {
      "cell_type": "code",
      "source": [
        "print(df.head())"
      ],
      "metadata": {
        "id": "BD1aQ6vfhmef",
        "colab": {
          "base_uri": "https://localhost:8080/"
        },
        "outputId": "860fe8d5-5119-4d56-feef-6ab62dc1de77"
      },
      "execution_count": 5,
      "outputs": [
        {
          "output_type": "stream",
          "name": "stdout",
          "text": [
            "   PassengerId  Survived  Pclass  \\\n",
            "0            1         0       3   \n",
            "1            2         1       1   \n",
            "2            3         1       3   \n",
            "3            4         1       1   \n",
            "4            5         0       3   \n",
            "\n",
            "                                                Name     Sex   Age  SibSp  \\\n",
            "0                            Braund, Mr. Owen Harris    male  22.0      1   \n",
            "1  Cumings, Mrs. John Bradley (Florence Briggs Th...  female  38.0      1   \n",
            "2                             Heikkinen, Miss. Laina  female  26.0      0   \n",
            "3       Futrelle, Mrs. Jacques Heath (Lily May Peel)  female  35.0      1   \n",
            "4                           Allen, Mr. William Henry    male  35.0      0   \n",
            "\n",
            "   Parch            Ticket     Fare Cabin Embarked  \n",
            "0      0         A/5 21171   7.2500   NaN        S  \n",
            "1      0          PC 17599  71.2833   C85        C  \n",
            "2      0  STON/O2. 3101282   7.9250   NaN        S  \n",
            "3      0            113803  53.1000  C123        S  \n",
            "4      0            373450   8.0500   NaN        S  \n"
          ]
        }
      ]
    },
    {
      "cell_type": "code",
      "source": [
        "print(df.describe)"
      ],
      "metadata": {
        "id": "4jOt-A6khpoh",
        "colab": {
          "base_uri": "https://localhost:8080/"
        },
        "outputId": "a1d35833-990f-45da-cb87-6ea6bc856a8a"
      },
      "execution_count": 6,
      "outputs": [
        {
          "output_type": "stream",
          "name": "stdout",
          "text": [
            "<bound method NDFrame.describe of      PassengerId  Survived  Pclass  \\\n",
            "0              1         0       3   \n",
            "1              2         1       1   \n",
            "2              3         1       3   \n",
            "3              4         1       1   \n",
            "4              5         0       3   \n",
            "..           ...       ...     ...   \n",
            "886          887         0       2   \n",
            "887          888         1       1   \n",
            "888          889         0       3   \n",
            "889          890         1       1   \n",
            "890          891         0       3   \n",
            "\n",
            "                                                  Name     Sex   Age  SibSp  \\\n",
            "0                              Braund, Mr. Owen Harris    male  22.0      1   \n",
            "1    Cumings, Mrs. John Bradley (Florence Briggs Th...  female  38.0      1   \n",
            "2                               Heikkinen, Miss. Laina  female  26.0      0   \n",
            "3         Futrelle, Mrs. Jacques Heath (Lily May Peel)  female  35.0      1   \n",
            "4                             Allen, Mr. William Henry    male  35.0      0   \n",
            "..                                                 ...     ...   ...    ...   \n",
            "886                              Montvila, Rev. Juozas    male  27.0      0   \n",
            "887                       Graham, Miss. Margaret Edith  female  19.0      0   \n",
            "888           Johnston, Miss. Catherine Helen \"Carrie\"  female   NaN      1   \n",
            "889                              Behr, Mr. Karl Howell    male  26.0      0   \n",
            "890                                Dooley, Mr. Patrick    male  32.0      0   \n",
            "\n",
            "     Parch            Ticket     Fare Cabin Embarked  \n",
            "0        0         A/5 21171   7.2500   NaN        S  \n",
            "1        0          PC 17599  71.2833   C85        C  \n",
            "2        0  STON/O2. 3101282   7.9250   NaN        S  \n",
            "3        0            113803  53.1000  C123        S  \n",
            "4        0            373450   8.0500   NaN        S  \n",
            "..     ...               ...      ...   ...      ...  \n",
            "886      0            211536  13.0000   NaN        S  \n",
            "887      0            112053  30.0000   B42        S  \n",
            "888      2        W./C. 6607  23.4500   NaN        S  \n",
            "889      0            111369  30.0000  C148        C  \n",
            "890      0            370376   7.7500   NaN        Q  \n",
            "\n",
            "[891 rows x 12 columns]>\n"
          ]
        }
      ]
    },
    {
      "cell_type": "code",
      "source": [
        "print(df.shape)"
      ],
      "metadata": {
        "id": "Kmopa2ephwxy",
        "colab": {
          "base_uri": "https://localhost:8080/"
        },
        "outputId": "31c31986-5674-40f6-da81-509e209844df"
      },
      "execution_count": 7,
      "outputs": [
        {
          "output_type": "stream",
          "name": "stdout",
          "text": [
            "(891, 12)\n"
          ]
        }
      ]
    },
    {
      "cell_type": "code",
      "source": [
        "print(df.describe())"
      ],
      "metadata": {
        "id": "SaEKFINzhzcY",
        "colab": {
          "base_uri": "https://localhost:8080/"
        },
        "outputId": "3e896b98-8c66-4512-b498-8e6312609690"
      },
      "execution_count": 8,
      "outputs": [
        {
          "output_type": "stream",
          "name": "stdout",
          "text": [
            "       PassengerId    Survived      Pclass         Age       SibSp  \\\n",
            "count   891.000000  891.000000  891.000000  714.000000  891.000000   \n",
            "mean    446.000000    0.383838    2.308642   29.699118    0.523008   \n",
            "std     257.353842    0.486592    0.836071   14.526497    1.102743   \n",
            "min       1.000000    0.000000    1.000000    0.420000    0.000000   \n",
            "25%     223.500000    0.000000    2.000000   20.125000    0.000000   \n",
            "50%     446.000000    0.000000    3.000000   28.000000    0.000000   \n",
            "75%     668.500000    1.000000    3.000000   38.000000    1.000000   \n",
            "max     891.000000    1.000000    3.000000   80.000000    8.000000   \n",
            "\n",
            "            Parch        Fare  \n",
            "count  891.000000  891.000000  \n",
            "mean     0.381594   32.204208  \n",
            "std      0.806057   49.693429  \n",
            "min      0.000000    0.000000  \n",
            "25%      0.000000    7.910400  \n",
            "50%      0.000000   14.454200  \n",
            "75%      0.000000   31.000000  \n",
            "max      6.000000  512.329200  \n"
          ]
        }
      ]
    },
    {
      "cell_type": "code",
      "source": [
        "print(df.dtypes)"
      ],
      "metadata": {
        "id": "eVGGJz80h6gQ",
        "colab": {
          "base_uri": "https://localhost:8080/"
        },
        "outputId": "c9bbaf87-78e2-42ff-e847-0a29ba3fcf07"
      },
      "execution_count": 9,
      "outputs": [
        {
          "output_type": "stream",
          "name": "stdout",
          "text": [
            "PassengerId      int64\n",
            "Survived         int64\n",
            "Pclass           int64\n",
            "Name            object\n",
            "Sex             object\n",
            "Age            float64\n",
            "SibSp            int64\n",
            "Parch            int64\n",
            "Ticket          object\n",
            "Fare           float64\n",
            "Cabin           object\n",
            "Embarked        object\n",
            "dtype: object\n"
          ]
        }
      ]
    },
    {
      "cell_type": "code",
      "source": [
        "print(df.isnull().sum())"
      ],
      "metadata": {
        "colab": {
          "base_uri": "https://localhost:8080/"
        },
        "id": "JnwRTZNW0m9V",
        "outputId": "cfcd974b-6f75-4b36-dd80-eeebeab99502"
      },
      "execution_count": 12,
      "outputs": [
        {
          "output_type": "stream",
          "name": "stdout",
          "text": [
            "PassengerId      0\n",
            "Survived         0\n",
            "Pclass           0\n",
            "Name             0\n",
            "Sex              0\n",
            "Age            177\n",
            "SibSp            0\n",
            "Parch            0\n",
            "Ticket           0\n",
            "Fare             0\n",
            "Cabin          687\n",
            "Embarked         2\n",
            "dtype: int64\n"
          ]
        }
      ]
    },
    {
      "cell_type": "code",
      "source": [
        "import math\n",
        "\n",
        "PLAYER_X = 'X'\n",
        "PLAYER_O = 'O'\n",
        "EMPTY = ' '\n",
        "\n",
        "# The game board is a 3x3 grid\n",
        "def print_board(board):\n",
        "    for row in board:\n",
        "        print(\" | \".join(row))\n",
        "        print(\"-\" * 5)\n",
        "\n",
        "# Check if the board is full\n",
        "def is_full(board):\n",
        "    for row in board:\n",
        "        if EMPTY in row:\n",
        "            return False\n",
        "    return True\n",
        "\n",
        "# Check if a player has won\n",
        "def check_winner(board, player):\n",
        "    # Check rows, columns, and diagonals\n",
        "    for row in board:\n",
        "        if all(s == player for s in row):\n",
        "            return True\n",
        "    for col in range(3):\n",
        "        if all(board[row][col] == player for row in range(3)):\n",
        "            return True\n",
        "    if all(board[i][i] == player for i in range(3)):\n",
        "        return True\n",
        "    if all(board[i][2 - i] == player for i in range(3)):\n",
        "        return True\n",
        "    return False\n",
        "\n",
        "# Evaluate the board state\n",
        "def evaluate(board):\n",
        "    if check_winner(board, PLAYER_X):\n",
        "        return 10\n",
        "    elif check_winner(board, PLAYER_O):\n",
        "        return -10\n",
        "    else:\n",
        "        return 0\n",
        "\n",
        "# Minimax with Alpha-Beta Pruning\n",
        "def minimax(board, depth, alpha, beta, is_maximizing_player):\n",
        "    score = evaluate(board)\n",
        "\n",
        "    # If the maximizer wins, return the score\n",
        "    if score == 10:\n",
        "        return score\n",
        "\n",
        "    # If the minimizer wins, return the score\n",
        "    if score == -10:\n",
        "        return score\n",
        "\n",
        "    # If the board is full, it's a tie\n",
        "    if is_full(board):\n",
        "        return 0\n",
        "\n",
        "    # If it is the maximizer's (AI's) turn\n",
        "    if is_maximizing_player:\n",
        "        max_eval = -math.inf\n",
        "        for i in range(3):\n",
        "            for j in range(3):\n",
        "                if board[i][j] == EMPTY:\n",
        "                    board[i][j] = PLAYER_X\n",
        "                    eval = minimax(board, depth + 1, alpha, beta, False)\n",
        "                    max_eval = max(max_eval, eval)\n",
        "                    alpha = max(alpha, eval)\n",
        "                    board[i][j] = EMPTY\n",
        "                    if beta <= alpha:\n",
        "                        break\n",
        "        return max_eval\n",
        "\n",
        "    # If it is the minimizer's (player's) turn\n",
        "    else:\n",
        "        min_eval = math.inf\n",
        "        for i in range(3):\n",
        "            for j in range(3):\n",
        "                if board[i][j] == EMPTY:\n",
        "                    board[i][j] = PLAYER_O\n",
        "                    eval = minimax(board, depth + 1, alpha, beta, True)\n",
        "                    min_eval = min(min_eval, eval)\n",
        "                    beta = min(beta, eval)\n",
        "                    board[i][j] = EMPTY\n",
        "                    if beta <= alpha:\n",
        "                        break\n",
        "        return min_eval\n",
        "\n",
        "# Find the best move for the AI (PLAYER_X)\n",
        "def find_best_move(board):\n",
        "    best_val = -math.inf\n",
        "    best_move = (-1, -1)\n",
        "\n",
        "    # Try all possible moves for the AI\n",
        "    for i in range(3):\n",
        "        for j in range(3):\n",
        "            if board[i][j] == EMPTY:\n",
        "                board[i][j] = PLAYER_X\n",
        "                move_val = minimax(board, 0, -math.inf, math.inf, False)\n",
        "                board[i][j] = EMPTY\n",
        "                if move_val > best_val:\n",
        "                    best_move = (i, j)\n",
        "                    best_val = move_val\n",
        "\n",
        "    return best_move\n",
        "\n",
        "# Play the game\n",
        "def play_game():\n",
        "    board = [[EMPTY for _ in range(3)] for _ in range(3)]\n",
        "    current_player = PLAYER_O  # Player O starts\n",
        "\n",
        "    while True:\n",
        "        print_board(board)\n",
        "\n",
        "        if current_player == PLAYER_X:\n",
        "            print(\"AI's turn (X):\")\n",
        "            move = find_best_move(board)\n",
        "            board[move[0]][move[1]] = PLAYER_X\n",
        "        else:\n",
        "            print(\"Player O's turn:\")\n",
        "            move = None\n",
        "            while move is None:\n",
        "                try:\n",
        "                    row, col = map(int, input(\"Enter row and column (0-2) separated by space: \").split())\n",
        "                    if board[row][col] == EMPTY:\n",
        "                        move = (row, col)\n",
        "                        board[row][col] = PLAYER_O\n",
        "                    else:\n",
        "                        print(\"This spot is already taken, try again.\")\n",
        "                except (ValueError, IndexError):\n",
        "                    print(\"Invalid input, please enter row and column (0-2).\")\n",
        "\n",
        "        # Check if the game has ended\n",
        "        if check_winner(board, PLAYER_X):\n",
        "            print_board(board)\n",
        "            print(\"AI wins!\")\n",
        "            break\n",
        "        elif check_winner(board, PLAYER_O):\n",
        "            print_board(board)\n",
        "            print(\"Player O wins!\")\n",
        "            break\n",
        "        elif is_full(board):\n",
        "            print_board(board)\n",
        "            print(\"It's a draw!\")\n",
        "            break\n",
        "\n",
        "        # Switch turns\n",
        "        current_player = PLAYER_X if current_player == PLAYER_O else PLAYER_O\n",
        "\n",
        "# Start the game\n",
        "if __name__ == \"__main__\":\n",
        "    play_game()\n"
      ],
      "metadata": {
        "colab": {
          "base_uri": "https://localhost:8080/"
        },
        "id": "RBR6otO6PdmT",
        "outputId": "175ecfc2-2c76-4413-9a21-c5fe36bd3b17"
      },
      "execution_count": 10,
      "outputs": [
        {
          "output_type": "stream",
          "name": "stdout",
          "text": [
            "  |   |  \n",
            "-----\n",
            "  |   |  \n",
            "-----\n",
            "  |   |  \n",
            "-----\n",
            "Player O's turn:\n",
            "Enter row and column (0-2) separated by space: 0 1\n",
            "  | O |  \n",
            "-----\n",
            "  |   |  \n",
            "-----\n",
            "  |   |  \n",
            "-----\n",
            "AI's turn (X):\n",
            "X | O |  \n",
            "-----\n",
            "  |   |  \n",
            "-----\n",
            "  |   |  \n",
            "-----\n",
            "Player O's turn:\n",
            "Enter row and column (0-2) separated by space: 0 2\n",
            "X | O | O\n",
            "-----\n",
            "  |   |  \n",
            "-----\n",
            "  |   |  \n",
            "-----\n",
            "AI's turn (X):\n",
            "X | O | O\n",
            "-----\n",
            "X |   |  \n",
            "-----\n",
            "  |   |  \n",
            "-----\n",
            "Player O's turn:\n",
            "Enter row and column (0-2) separated by space: 0 3\n",
            "Invalid input, please enter row and column (0-2).\n",
            "Enter row and column (0-2) separated by space: 1 2\n",
            "X | O | O\n",
            "-----\n",
            "X |   | O\n",
            "-----\n",
            "  |   |  \n",
            "-----\n",
            "AI's turn (X):\n",
            "X | O | O\n",
            "-----\n",
            "X |   | O\n",
            "-----\n",
            "X |   |  \n",
            "-----\n",
            "AI wins!\n"
          ]
        }
      ]
    }
  ]
}